{
 "cells": [
  {
   "cell_type": "markdown",
   "metadata": {},
   "source": [
    "# Assignment 3"
   ]
  },
  {
   "cell_type": "markdown",
   "metadata": {},
   "source": [
    "### Write a function to count the number 4 in a given list."
   ]
  },
  {
   "cell_type": "code",
   "execution_count": 4,
   "metadata": {},
   "outputs": [
    {
     "name": "stdout",
     "output_type": "stream",
     "text": [
      "the count of number 4 is : 2\n"
     ]
    }
   ],
   "source": [
    "\n",
    "def count(l):\n",
    "    c=0\n",
    "    ll=len(l)\n",
    "    for i in range(ll):\n",
    "        if(l[i]==4):\n",
    "            c+=1\n",
    "    return(c)\n",
    "\n",
    "L=[1,2,3,4,4,5]\n",
    "\n",
    "print(\"the count of number 4 is :\",count(L))\n",
    "\n",
    "        "
   ]
  },
  {
   "cell_type": "markdown",
   "metadata": {},
   "source": [
    "### write a  function to check whether a number is divisible by another number."
   ]
  },
  {
   "cell_type": "code",
   "execution_count": 5,
   "metadata": {},
   "outputs": [
    {
     "name": "stdout",
     "output_type": "stream",
     "text": [
      "please enter a no:4\n",
      "please enter a no:2\n",
      "True\n"
     ]
    }
   ],
   "source": [
    "def check(x,y):\n",
    "    if x%y==0:\n",
    "        print(\"True\")\n",
    "    else:\n",
    "        print(\"False\")\n",
    "num1=int(input(\"please enter a no:\"))\n",
    "num2=int(input(\"please enter a no:\"))\n",
    "check(num1,num2)"
   ]
  },
  {
   "cell_type": "markdown",
   "metadata": {},
   "source": [
    "### write a function to find the maximum and minimum numbers from a sequence of numbers."
   ]
  },
  {
   "cell_type": "code",
   "execution_count": 6,
   "metadata": {},
   "outputs": [
    {
     "name": "stdout",
     "output_type": "stream",
     "text": [
      "the max number is: 500\n",
      "the min number is: -40\n"
     ]
    }
   ],
   "source": [
    "nums = [1,2,3,4,15,20,100,500,-40,0]\n",
    "min=nums[0]\n",
    "max=nums[0]\n",
    "for i in nums:\n",
    "    if(max<i):\n",
    "        max=i\n",
    "    if(min>i):\n",
    "        min=i\n",
    "print(\"the max number is:\",max)\n",
    "print(\"the min number is:\",min)\n"
   ]
  },
  {
   "cell_type": "markdown",
   "metadata": {},
   "source": [
    "### Write a Python function that takes two lists and returns True if they have at least one common member."
   ]
  },
  {
   "cell_type": "code",
   "execution_count": 7,
   "metadata": {},
   "outputs": [
    {
     "name": "stdout",
     "output_type": "stream",
     "text": [
      "1 True\n",
      "2 True\n",
      "3 True\n"
     ]
    }
   ],
   "source": [
    "def l(list1,list2):\n",
    "    c=0\n",
    "    x=len(list1)\n",
    "    y=len(list2)\n",
    "    for i in range(x):\n",
    "        for j in range(y):\n",
    "            if (list1[i]==list2[j]):\n",
    "                c+=1\n",
    "                print(c,\"True\")\n",
    "    \n",
    "list1=[1,2,3,4,5,9,10,7]\n",
    "list2=[1,2,3,8,20,60,70]\n",
    "l(list1,list2)\n"
   ]
  },
  {
   "cell_type": "markdown",
   "metadata": {},
   "source": [
    "### Write a Python function to calculate the factorial of a number (a non-negative integer). The function accepts the number from the user"
   ]
  },
  {
   "cell_type": "code",
   "execution_count": 8,
   "metadata": {},
   "outputs": [
    {
     "name": "stdout",
     "output_type": "stream",
     "text": [
      "factorial of a number is: 120\n"
     ]
    }
   ],
   "source": [
    "def factorial(x):\n",
    "    if x < 0:\n",
    "        return 1\n",
    "    elif x==0:\n",
    "        return 1\n",
    "    else:\n",
    "        return (x*factorial(x-1))\n",
    "print(\"factorial of a number is:\",factorial(5))\n",
    "    "
   ]
  },
  {
   "cell_type": "markdown",
   "metadata": {},
   "source": [
    "### Write a Python function to check whether a number is in a given range.\n",
    "\n",
    "### The range is from 3 to 11\n"
   ]
  },
  {
   "cell_type": "code",
   "execution_count": 9,
   "metadata": {},
   "outputs": [
    {
     "name": "stdout",
     "output_type": "stream",
     "text": [
      "the given number within the range\n"
     ]
    }
   ],
   "source": [
    "def Range(x,y,n):\n",
    "    if n>=x and n<=y:\n",
    "        print(\"the given number within the range\")\n",
    "    else:\n",
    "        print(\"the number not in the range\")\n",
    "Range(3,11,5)\n",
    "    \n",
    "    "
   ]
  },
  {
   "cell_type": "markdown",
   "metadata": {},
   "source": [
    "### Write a  program to create the multiplication table (from 1 to 10) of a number."
   ]
  },
  {
   "cell_type": "code",
   "execution_count": 10,
   "metadata": {},
   "outputs": [
    {
     "name": "stdout",
     "output_type": "stream",
     "text": [
      "please enter a number8\n",
      "8\n",
      "16\n",
      "24\n",
      "32\n",
      "40\n",
      "48\n",
      "56\n",
      "64\n",
      "72\n",
      "80\n"
     ]
    }
   ],
   "source": [
    "n=int(input(\"please enter a number\"))\n",
    "for i in range (1,11):\n",
    "    print(n*i)\n"
   ]
  },
  {
   "cell_type": "markdown",
   "metadata": {},
   "source": [
    "#### LESSER OF TWO EVENS: Write a function that returns the lesser of two given numbers *if* both numbers are even, but returns the greater if one or both numbers are odd\n",
    "    lesser_of_two_evens(2,4) --> 2\n",
    "    lesser_of_two_evens(2,5) --> 5"
   ]
  },
  {
   "cell_type": "code",
   "execution_count": 11,
   "metadata": {},
   "outputs": [
    {
     "name": "stdout",
     "output_type": "stream",
     "text": [
      "please enter a number:2\n",
      "please enter a number:4\n",
      "2\n"
     ]
    }
   ],
   "source": [
    "def lesser1(x,y):\n",
    "    if x%2==0 and y%2==0:\n",
    "        if x<y:\n",
    "            print(x)\n",
    "        else:\n",
    "            print(y)\n",
    "    elif x%2 !=0 and y%2 !=0:\n",
    "        if x>y:\n",
    "            print(x)\n",
    "        else:\n",
    "            print(y)\n",
    "    elif x%2 !=0 and y%2 ==0:\n",
    "        if x>y:\n",
    "            print(x)\n",
    "        else:\n",
    "            print(y)\n",
    "    elif x%2 !=0 and y%2 ==0:\n",
    "        if x>y:\n",
    "            print(x)\n",
    "        else:\n",
    "            print(y)\n",
    "\n",
    "x=int(input(\"please enter a number:\"))\n",
    "y=int(input(\"please enter a number:\"))\n",
    "lesser1(x,y)"
   ]
  },
  {
   "cell_type": "markdown",
   "metadata": {},
   "source": [
    "#### ANIMAL CRACKERS: Write a function takes a two-word string and returns True if both words begin with same letter\n",
    "    animal_crackers('Levelheaded Llama') --> True\n",
    "    animal_crackers('Crazy Kangaroo') --> False"
   ]
  },
  {
   "cell_type": "code",
   "execution_count": 12,
   "metadata": {},
   "outputs": [
    {
     "name": "stdout",
     "output_type": "stream",
     "text": [
      "please enter the text:Levelheaded Llama\n",
      "True\n"
     ]
    }
   ],
   "source": [
    "def func(x):\n",
    "    l=x.split()\n",
    "    if l[0][0]==l[1][0]:\n",
    "        print(\"True\")\n",
    "    else:\n",
    "        print(\"False\")\n",
    "    \n",
    "      \n",
    "x=input(\"please enter the text:\")\n",
    "func(x)"
   ]
  },
  {
   "cell_type": "markdown",
   "metadata": {},
   "source": [
    "#### MAKES TWENTY: Given two integers, return True if the sum of the integers is 20 *or* if one of the integers is 20. If not, return False\n",
    "\n",
    "    makes_twenty(20,10) --> True\n",
    "    makes_twenty(12,8) --> True\n",
    "    makes_twenty(2,3) --> False"
   ]
  },
  {
   "cell_type": "code",
   "execution_count": 13,
   "metadata": {},
   "outputs": [
    {
     "name": "stdout",
     "output_type": "stream",
     "text": [
      "please enter a number:20\n",
      "please enter a number:10\n",
      "True\n"
     ]
    }
   ],
   "source": [
    "def twenty(x,y):\n",
    "    if (x+y==20) or (x>=20) or (y>=20):\n",
    "        print(\"True\")\n",
    "    else:\n",
    "        print(\"False\")\n",
    "x=int(input(\"please enter a number:\"))\n",
    "y=int(input(\"please enter a number:\"))\n",
    "twenty(x,y)"
   ]
  },
  {
   "cell_type": "markdown",
   "metadata": {},
   "source": [
    "#### ALMOST THERE: Given an integer n, return True if n is within 10 of either 100 or 200\n",
    "\n",
    "    almost_there(90) --> True\n",
    "    almost_there(104) --> True\n",
    "    almost_there(150) --> False\n",
    "    almost_there(209) --> True\n",
    "    \n",
    "NOTE: `abs(num)` returns the absolute value of a number"
   ]
  },
  {
   "cell_type": "code",
   "execution_count": 14,
   "metadata": {},
   "outputs": [
    {
     "name": "stdout",
     "output_type": "stream",
     "text": [
      "please enter a number:104\n",
      "True\n"
     ]
    }
   ],
   "source": [
    "def almost(n):\n",
    "    if (n>=90 and n<=110):\n",
    "        print(\"True\")\n",
    "    elif (n>=190 and n<=210):\n",
    "        print(\"True\")\n",
    "    else:\n",
    "        print(\"False\")\n",
    "n=int(input(\"please enter a number:\"))\n",
    "almost(n)"
   ]
  },
  {
   "cell_type": "markdown",
   "metadata": {},
   "source": [
    "#### BLACKJACK: Given three integers between 1 and 11, if their sum is less than or equal to 21, return their sum. If their sum exceeds 21 *and* there's an eleven, reduce the total sum by 10. Finally, if the sum  exceeds 21, return 'BUST'\n",
    "    blackjack(5,6,7) --> 18\n",
    "    blackjack(9,9,9) --> 'BUST'\n",
    "    blackjack(9,9,11) --> 19"
   ]
  },
  {
   "cell_type": "code",
   "execution_count": 3,
   "metadata": {},
   "outputs": [
    {
     "name": "stdout",
     "output_type": "stream",
     "text": [
      "please enter a no bet 1and 11:5\n",
      "please enter a no bet 1and 11:6\n",
      "please enter a no bet 1and 11:7\n",
      "18\n"
     ]
    }
   ],
   "source": [
    "def blackjack(x,y,z):\n",
    "    sum=x+y+z\n",
    "    if (sum<=21):\n",
    "        print(sum)\n",
    "    elif(sum >21 and (x==11 or y==11 or z==11)) :\n",
    "        print(sum-10)\n",
    "    elif(sum>21):\n",
    "        print(\"Bust\")\n",
    "        \n",
    "num1=int(input(\"please enter a no bet 1and 11:\"))\n",
    "num2=int(input(\"please enter a no bet 1and 11:\"))\n",
    "num3=int(input(\"please enter a no bet 1and 11:\"))\n",
    "blackjack(num1,num2,num3)"
   ]
  },
  {
   "cell_type": "code",
   "execution_count": null,
   "metadata": {},
   "outputs": [],
   "source": []
  },
  {
   "cell_type": "code",
   "execution_count": null,
   "metadata": {},
   "outputs": [],
   "source": []
  }
 ],
 "metadata": {
  "kernelspec": {
   "display_name": "Python 3 (ipykernel)",
   "language": "python",
   "name": "python3"
  },
  "language_info": {
   "codemirror_mode": {
    "name": "ipython",
    "version": 3
   },
   "file_extension": ".py",
   "mimetype": "text/x-python",
   "name": "python",
   "nbconvert_exporter": "python",
   "pygments_lexer": "ipython3",
   "version": "3.9.12"
  }
 },
 "nbformat": 4,
 "nbformat_minor": 2
}
