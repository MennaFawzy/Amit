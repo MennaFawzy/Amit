{
 "cells": [
  {
   "cell_type": "markdown",
   "metadata": {},
   "source": [
    "## Write a Numpy program to compute the multiplication of two given matrixes"
   ]
  },
  {
   "cell_type": "code",
   "execution_count": 6,
   "metadata": {},
   "outputs": [
    {
     "name": "stdout",
     "output_type": "stream",
     "text": [
      "[[ 30  27  33]\n",
      " [ 66  63  78]\n",
      " [ 99  93 114]]\n"
     ]
    }
   ],
   "source": [
    "import numpy as np\n",
    "mat1=([1,2,3],[4,5,6],[4,8,9])\n",
    "mat2=([1,2,3],[4,5,6],[7,5,6])\n",
    "result=np.dot(mat1,mat2)\n",
    "print(result)"
   ]
  },
  {
   "cell_type": "code",
   "execution_count": null,
   "metadata": {},
   "outputs": [],
   "source": []
  },
  {
   "cell_type": "markdown",
   "metadata": {},
   "source": [
    "## Write a NumPy program to compute the determinant of a given square array"
   ]
  },
  {
   "cell_type": "code",
   "execution_count": 1,
   "metadata": {},
   "outputs": [
    {
     "name": "stdout",
     "output_type": "stream",
     "text": [
      "9.000000000000002\n"
     ]
    }
   ],
   "source": [
    "import numpy as np\n",
    "mat1=([1,2,3],[4,5,6],[4,8,9])\n",
    "result=np.linalg.det(mat1)\n",
    "print(result)"
   ]
  },
  {
   "cell_type": "code",
   "execution_count": 2,
   "metadata": {},
   "outputs": [
    {
     "name": "stdout",
     "output_type": "stream",
     "text": [
      "-8.999999999999998\n"
     ]
    }
   ],
   "source": [
    "import numpy as np\n",
    "mat2=([1,2,3],[4,5,6],[7,5,6])\n",
    "result=np.linalg.det(mat2)\n",
    "print(result)"
   ]
  },
  {
   "cell_type": "markdown",
   "metadata": {},
   "source": [
    "## Write a NumPy program to compute the cross product of two given vectors"
   ]
  },
  {
   "cell_type": "code",
   "execution_count": 4,
   "metadata": {},
   "outputs": [
    {
     "name": "stdout",
     "output_type": "stream",
     "text": [
      "[-4 -4]\n"
     ]
    }
   ],
   "source": [
    "import numpy as np\n",
    "x = [[1, 2],[3,4]]\n",
    "y = [[5, 6],[7,8]]\n",
    "result = np.cross(x, y)\n",
    "print(result)"
   ]
  },
  {
   "cell_type": "code",
   "execution_count": null,
   "metadata": {},
   "outputs": [],
   "source": []
  },
  {
   "cell_type": "markdown",
   "metadata": {},
   "source": [
    "## Write a NumPy program to compute the condition number of a given matrix"
   ]
  },
  {
   "cell_type": "code",
   "execution_count": 5,
   "metadata": {},
   "outputs": [
    {
     "name": "stdout",
     "output_type": "stream",
     "text": [
      "32.189556718851804\n"
     ]
    }
   ],
   "source": [
    "import numpy as np\n",
    "mat1=([1,2,3],[4,5,6],[4,8,9])\n",
    "result=np.linalg.cond(mat1)\n",
    "print(result)"
   ]
  },
  {
   "cell_type": "code",
   "execution_count": null,
   "metadata": {},
   "outputs": [],
   "source": []
  },
  {
   "cell_type": "markdown",
   "metadata": {},
   "source": [
    "## Write a NumPy program to compute the inverse of a given matrix"
   ]
  },
  {
   "cell_type": "code",
   "execution_count": 7,
   "metadata": {},
   "outputs": [
    {
     "name": "stdout",
     "output_type": "stream",
     "text": [
      "[[-0.33333333  0.66666667 -0.33333333]\n",
      " [-1.33333333 -0.33333333  0.66666667]\n",
      " [ 1.33333333  0.         -0.33333333]]\n"
     ]
    }
   ],
   "source": [
    "import numpy as np\n",
    "mat1=([1,2,3],[4,5,6],[4,8,9])\n",
    "result=np.linalg.inv(mat1)\n",
    "print(result)"
   ]
  },
  {
   "cell_type": "code",
   "execution_count": null,
   "metadata": {},
   "outputs": [],
   "source": []
  },
  {
   "cell_type": "code",
   "execution_count": null,
   "metadata": {},
   "outputs": [],
   "source": []
  }
 ],
 "metadata": {
  "kernelspec": {
   "display_name": "Python 3 (ipykernel)",
   "language": "python",
   "name": "python3"
  },
  "language_info": {
   "codemirror_mode": {
    "name": "ipython",
    "version": 3
   },
   "file_extension": ".py",
   "mimetype": "text/x-python",
   "name": "python",
   "nbconvert_exporter": "python",
   "pygments_lexer": "ipython3",
   "version": "3.9.12"
  }
 },
 "nbformat": 4,
 "nbformat_minor": 2
}
